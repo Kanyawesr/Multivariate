{
  "nbformat": 4,
  "nbformat_minor": 0,
  "metadata": {
    "colab": {
      "name": "Intro to Multivariate.ipynb",
      "provenance": [],
      "authorship_tag": "ABX9TyMKaS1wogTdfr6Z/3te0xoe",
      "include_colab_link": true
    },
    "kernelspec": {
      "name": "python3",
      "display_name": "Python 3"
    }
  },
  "cells": [
    {
      "cell_type": "markdown",
      "metadata": {
        "id": "view-in-github",
        "colab_type": "text"
      },
      "source": [
        "<a href=\"https://colab.research.google.com/github/Kanyawesr/multivariate/blob/main/Intro_to_Multivariate.ipynb\" target=\"_parent\"><img src=\"https://colab.research.google.com/assets/colab-badge.svg\" alt=\"Open In Colab\"/></a>"
      ]
    },
    {
      "cell_type": "markdown",
      "metadata": {
        "id": "6CNP9Ras33hW"
      },
      "source": [
        "กัญญาวีร์ ศรีเทียมเงิน ID 623020511-1\r\n"
      ]
    },
    {
      "cell_type": "code",
      "metadata": {
        "colab": {
          "base_uri": "https://localhost:8080/"
        },
        "id": "CbEGP8ln4J3d",
        "outputId": "91685466-4897-47cb-ac64-490e98dcb425"
      },
      "source": [
        "print('กัญญาวีร์') #single quote (') ใช้ล้อมรอบข้อความ"
      ],
      "execution_count": 4,
      "outputs": [
        {
          "output_type": "stream",
          "text": [
            "กัญญาวีร์\n"
          ],
          "name": "stdout"
        }
      ]
    }
  ]
}