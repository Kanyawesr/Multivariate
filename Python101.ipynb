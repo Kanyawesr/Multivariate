{
  "nbformat": 4,
  "nbformat_minor": 0,
  "metadata": {
    "colab": {
      "name": "Python101.ipynb",
      "provenance": [],
      "authorship_tag": "ABX9TyNxbv95c3weVi+WUB+MwadV",
      "include_colab_link": true
    },
    "kernelspec": {
      "name": "python3",
      "display_name": "Python 3"
    }
  },
  "cells": [
    {
      "cell_type": "markdown",
      "metadata": {
        "id": "view-in-github",
        "colab_type": "text"
      },
      "source": [
        "<a href=\"https://colab.research.google.com/github/Kanyawesr/Multivariate/blob/main/Python101.ipynb\" target=\"_parent\"><img src=\"https://colab.research.google.com/assets/colab-badge.svg\" alt=\"Open In Colab\"/></a>"
      ]
    },
    {
      "cell_type": "markdown",
      "metadata": {
        "id": "sGwzCQU99vXc"
      },
      "source": [
        "ตัวแปร variable"
      ]
    },
    {
      "cell_type": "markdown",
      "metadata": {
        "id": "Lnmi-xai9-5C"
      },
      "source": [
        "หลักการตั้งชื่อตัวแปรเบื้องต้น\r\n",
        "\r\n",
        "1. ตั้งให้สื่อ\r\n",
        "2. ภาษาอังกฤษ\r\n",
        "3. ใช้ตัวเลขได้แต่ห้ามขึ้นต้นด้วยตัวเลข\r\n",
        "4. ห้ามเว้นวรรค\r\n",
        "5. ตัวเล็กกับตัวใหญ่ไม่เหมือนกัน"
      ]
    },
    {
      "cell_type": "markdown",
      "metadata": {
        "id": "vpi5X6e0-bHJ"
      },
      "source": [
        "มี output 2 mode : ออกหน้าจอ กับ เข้าไปเก็บตัวแปร"
      ]
    },
    {
      "cell_type": "code",
      "metadata": {
        "colab": {
          "base_uri": "https://localhost:8080/"
        },
        "id": "6zeyp49a9W74",
        "outputId": "aabfdcf2-8fdb-4cec-f373-90841be25f5d"
      },
      "source": [
        "3.14159   # hashtag หรือ sharp # คือ comment  >>> อันนี้คือ output ที่ออกหน้าจอ (ถ้าเกิดมันออกจากหน้าจอมันก็จะไม่ถูกเก็บไว้ที่ไหนก็จะใช้ต่อไม่ได้ ต้องพิมพ์อีกครั้งนึง)"
      ],
      "execution_count": 1,
      "outputs": [
        {
          "output_type": "execute_result",
          "data": {
            "text/plain": [
              "3.14159"
            ]
          },
          "metadata": {
            "tags": []
          },
          "execution_count": 1
        }
      ]
    },
    {
      "cell_type": "code",
      "metadata": {
        "id": "ZxqZufa8-rps"
      },
      "source": [
        "Pi = 3.14159   # อันนี้คือ output ที่เข้าไปอยู่ในตัวแปร (สามารถเอาค่า Pi มาแสดงได้ ค่าจะอยู่ใน Pi ตลอดไปถ้าไม่เปลี่ยนค่ามัน )"
      ],
      "execution_count": 38,
      "outputs": []
    },
    {
      "cell_type": "code",
      "metadata": {
        "colab": {
          "base_uri": "https://localhost:8080/"
        },
        "id": "49XPS2g--wY-",
        "outputId": "88f3e870-73dd-47e8-c2f4-4b9051e384f4"
      },
      "source": [
        "Pi"
      ],
      "execution_count": 3,
      "outputs": [
        {
          "output_type": "execute_result",
          "data": {
            "text/plain": [
              "3.14159"
            ]
          },
          "metadata": {
            "tags": []
          },
          "execution_count": 3
        }
      ]
    },
    {
      "cell_type": "code",
      "metadata": {
        "colab": {
          "base_uri": "https://localhost:8080/"
        },
        "id": "oaM0VYU7-ziV",
        "outputId": "e60cf3ac-fdf5-4451-80b3-25f5766e72bc"
      },
      "source": [
        "a = 1234567 # ใน cell สามารถมีได้หลายคำสั่งหากอยากโชว์ค่า a ใช้คำสั่ง print ซึ่งใน cell นี้ทำ 2 อย่าง 1.ตั้งตัวแปรชื่อ a แล้วเอาเลข 1234567 ใส่ในตัวแปร a  2. ให้แสดงผลค่า a โดยคำสั่ง print\r\n",
        "print(a) "
      ],
      "execution_count": 5,
      "outputs": [
        {
          "output_type": "stream",
          "text": [
            "1234567\n"
          ],
          "name": "stdout"
        }
      ]
    },
    {
      "cell_type": "markdown",
      "metadata": {
        "id": "nvdmjj4g-8TV"
      },
      "source": [
        "#ชนิดของตัวแปร 3 ชนิด (ที่เราเห็นบ่อยๆ)"
      ]
    },
    {
      "cell_type": "markdown",
      "metadata": {
        "id": "ifSeuLtW_Dt6"
      },
      "source": [
        "###จำนวนเต็ม (integer, int)"
      ]
    },
    {
      "cell_type": "code",
      "metadata": {
        "colab": {
          "base_uri": "https://localhost:8080/"
        },
        "id": "iWZTylOW-2S4",
        "outputId": "693145da-7e99-4440-aa91-4f3ef73c6552"
      },
      "source": [
        "aaa = 1092 # ตัวแปรที่เป็นจำนวนเต็ม(int)\r\n",
        "print(aaa)"
      ],
      "execution_count": 39,
      "outputs": [
        {
          "output_type": "stream",
          "text": [
            "1092\n"
          ],
          "name": "stdout"
        }
      ]
    },
    {
      "cell_type": "markdown",
      "metadata": {
        "id": "2yHM25yB_eUS"
      },
      "source": [
        "###จำนวนจริง (float)"
      ]
    },
    {
      "cell_type": "code",
      "metadata": {
        "colab": {
          "base_uri": "https://localhost:8080/"
        },
        "id": "5-Fhh3gE_YP-",
        "outputId": "56738311-91ab-45ca-bc6e-f732e15ebdb7"
      },
      "source": [
        "bbb = 11.  # วิธีการสร้าง float เมื่อเรามี \".\" มันก็คือจำนวนจริง\r\n",
        "print(bbb)"
      ],
      "execution_count": 40,
      "outputs": [
        {
          "output_type": "stream",
          "text": [
            "11.0\n"
          ],
          "name": "stdout"
        }
      ]
    },
    {
      "cell_type": "markdown",
      "metadata": {
        "id": "xrXm0Fkr_sxy"
      },
      "source": [
        "### ตัวอักษร-ข้อความ (character และ text, string)"
      ]
    },
    {
      "cell_type": "code",
      "metadata": {
        "colab": {
          "base_uri": "https://localhost:8080/"
        },
        "id": "5Drs9b9q_o2t",
        "outputId": "3b7108f2-a2f7-4b1e-e8ff-1c74d48d97f3"
      },
      "source": [
        "ccc = '123456'   # เราใช้ single quote ' หรือ double quote \" ล้อมรอบตัวหนังสือเพื่อระบุว่าเป็น character-string เป็นตัวอักษรใช้บวกลบคูณหารไม่ได้\r\n",
        "print(ccc) # ตัว string ต้องมี code ล้อมรอบเพราะตัวแปรก็เป็นตัวอักษรเหมือนกันจะ"
      ],
      "execution_count": 44,
      "outputs": [
        {
          "output_type": "stream",
          "text": [
            "123456\n"
          ],
          "name": "stdout"
        }
      ]
    },
    {
      "cell_type": "code",
      "metadata": {
        "colab": {
          "base_uri": "https://localhost:8080/"
        },
        "id": "HqyF8X5g_x1M",
        "outputId": "2838863c-f7d8-48c4-b440-f134037816c1"
      },
      "source": [
        "aaa + bbb  # float + int = float  "
      ],
      "execution_count": 45,
      "outputs": [
        {
          "output_type": "execute_result",
          "data": {
            "text/plain": [
              "1103.0"
            ]
          },
          "metadata": {
            "tags": []
          },
          "execution_count": 45
        }
      ]
    },
    {
      "cell_type": "code",
      "metadata": {
        "colab": {
          "base_uri": "https://localhost:8080/",
          "height": 164
        },
        "id": "LCPYabL6_0Dw",
        "outputId": "65b316fd-8016-40c2-9e5f-20156dc105ea"
      },
      "source": [
        "bbb + ccc # ที่บวกไม่ได้เพราะว่ามันเป็นตัวแปรคนละชนิดกัน  (ให้ดูที่ TypeError บรรทัดล่างซึ่งเราสามารถนำไปเสิช google ได้)"
      ],
      "execution_count": 46,
      "outputs": [
        {
          "output_type": "error",
          "ename": "TypeError",
          "evalue": "ignored",
          "traceback": [
            "\u001b[0;31m---------------------------------------------------------------------------\u001b[0m",
            "\u001b[0;31mTypeError\u001b[0m                                 Traceback (most recent call last)",
            "\u001b[0;32m<ipython-input-46-a3916046ad1c>\u001b[0m in \u001b[0;36m<module>\u001b[0;34m()\u001b[0m\n\u001b[0;32m----> 1\u001b[0;31m \u001b[0mbbb\u001b[0m \u001b[0;34m+\u001b[0m \u001b[0mccc\u001b[0m\u001b[0;34m\u001b[0m\u001b[0;34m\u001b[0m\u001b[0m\n\u001b[0m",
            "\u001b[0;31mTypeError\u001b[0m: unsupported operand type(s) for +: 'float' and 'str'"
          ]
        }
      ]
    },
    {
      "cell_type": "code",
      "metadata": {
        "colab": {
          "base_uri": "https://localhost:8080/"
        },
        "id": "AWPuJECW_15A",
        "outputId": "0e32e5b4-bba3-4523-bf7a-8e6ad659dc21"
      },
      "source": [
        "ddd = 'กัญญาวีร์' # ข้อดีคือข้อความสามารถพิมพ์ภาษาไทยได้\r\n",
        "print(ddd)"
      ],
      "execution_count": 47,
      "outputs": [
        {
          "output_type": "stream",
          "text": [
            "กัญญาวีร์\n"
          ],
          "name": "stdout"
        }
      ]
    },
    {
      "cell_type": "markdown",
      "metadata": {
        "id": "Wy2hsfU-_-tU"
      },
      "source": [
        "# การเปลี่ยนชนิดของตัวแปร variable casting (วิธีแก้จากการที่ตัวแปรบวกกันไม่ได้)"
      ]
    },
    {
      "cell_type": "code",
      "metadata": {
        "colab": {
          "base_uri": "https://localhost:8080/"
        },
        "id": "GvGbMAe3_72B",
        "outputId": "ecab273a-5f8c-4f62-ad46-2af9811fb991"
      },
      "source": [
        "aaa + int(ccc) # บังคับให้เป็นชนิดตัวแปรที่เราต้องการ เช่นให้เป็น int,float"
      ],
      "execution_count": 13,
      "outputs": [
        {
          "output_type": "execute_result",
          "data": {
            "text/plain": [
              "124548"
            ]
          },
          "metadata": {
            "tags": []
          },
          "execution_count": 13
        }
      ]
    },
    {
      "cell_type": "code",
      "metadata": {
        "colab": {
          "base_uri": "https://localhost:8080/"
        },
        "id": "kZzrwy1CACDf",
        "outputId": "fe4f8cb4-4133-4061-c548-d9ef45e3aafc"
      },
      "source": [
        "aaa + float(ccc) # float+int = float"
      ],
      "execution_count": 14,
      "outputs": [
        {
          "output_type": "execute_result",
          "data": {
            "text/plain": [
              "124548.0"
            ]
          },
          "metadata": {
            "tags": []
          },
          "execution_count": 14
        }
      ]
    },
    {
      "cell_type": "code",
      "metadata": {
        "colab": {
          "base_uri": "https://localhost:8080/",
          "height": 34
        },
        "id": "FHiXe68fAEGD",
        "outputId": "fe237af3-25b2-4f51-af84-da7cc5c569fe"
      },
      "source": [
        "str(aaa) # int สามารถเปลี่ยนกลับไปเป็นข้อความได้ (การพิมพ์แบบนี้ทำได้เฉพาะตัวโน้ตบุ๊คคล้ายๆ colab ถ้ารวบรวมเป็นไฟล์จริงๆหากพิมพ์คำสั่งนี้ใน code จะไม่ทำไรเลยมันเป็นแค่เรียกชื่อตัวแปรเฉยๆ)"
      ],
      "execution_count": 15,
      "outputs": [
        {
          "output_type": "execute_result",
          "data": {
            "application/vnd.google.colaboratory.intrinsic+json": {
              "type": "string"
            },
            "text/plain": [
              "'1092'"
            ]
          },
          "metadata": {
            "tags": []
          },
          "execution_count": 15
        }
      ]
    },
    {
      "cell_type": "markdown",
      "metadata": {
        "id": "ZSa5V6VmAJOb"
      },
      "source": [
        "# การดำเนินการ Operation (Operators +,-,*,/,%)"
      ]
    },
    {
      "cell_type": "code",
      "metadata": {
        "colab": {
          "base_uri": "https://localhost:8080/",
          "height": 164
        },
        "id": "BsWkwkQLAGwR",
        "outputId": "8312619f-0b77-4e97-b454-0a1d59519bde"
      },
      "source": [
        "a+b # error นี้บอกว่าตัวแปร b ไม่มีจึงบวกไม่ได้ "
      ],
      "execution_count": 16,
      "outputs": [
        {
          "output_type": "error",
          "ename": "NameError",
          "evalue": "ignored",
          "traceback": [
            "\u001b[0;31m---------------------------------------------------------------------------\u001b[0m",
            "\u001b[0;31mNameError\u001b[0m                                 Traceback (most recent call last)",
            "\u001b[0;32m<ipython-input-16-ca730b97bf8a>\u001b[0m in \u001b[0;36m<module>\u001b[0;34m()\u001b[0m\n\u001b[0;32m----> 1\u001b[0;31m \u001b[0ma\u001b[0m\u001b[0;34m+\u001b[0m\u001b[0mb\u001b[0m\u001b[0;34m\u001b[0m\u001b[0;34m\u001b[0m\u001b[0m\n\u001b[0m",
            "\u001b[0;31mNameError\u001b[0m: name 'b' is not defined"
          ]
        }
      ]
    },
    {
      "cell_type": "code",
      "metadata": {
        "colab": {
          "base_uri": "https://localhost:8080/"
        },
        "id": "hfynbbGCAL5B",
        "outputId": "7def7e1b-7f14-4787-e240-e8fbf7f13cf5"
      },
      "source": [
        "aaa + bbb # output โชว์ออกมาอย่างเดียวเอาไปใช้ต่อไม่ได้ หากจะนำเอาไปใช้ต่อต้องมีตัวแปรมารับ"
      ],
      "execution_count": 17,
      "outputs": [
        {
          "output_type": "execute_result",
          "data": {
            "text/plain": [
              "1103.0"
            ]
          },
          "metadata": {
            "tags": []
          },
          "execution_count": 17
        }
      ]
    },
    {
      "cell_type": "code",
      "metadata": {
        "colab": {
          "base_uri": "https://localhost:8080/"
        },
        "id": "5pDVquzCANX7",
        "outputId": "745d8a11-55d9-4da4-b487-49bd3ce01873"
      },
      "source": [
        "aaa - bbb"
      ],
      "execution_count": 18,
      "outputs": [
        {
          "output_type": "execute_result",
          "data": {
            "text/plain": [
              "1081.0"
            ]
          },
          "metadata": {
            "tags": []
          },
          "execution_count": 18
        }
      ]
    },
    {
      "cell_type": "code",
      "metadata": {
        "colab": {
          "base_uri": "https://localhost:8080/"
        },
        "id": "m7MyvxFvAQVJ",
        "outputId": "d916603c-ee6e-4c2f-a288-31619d32d99e"
      },
      "source": [
        "ab = aaa*bbb \r\n",
        "print(ab)"
      ],
      "execution_count": 19,
      "outputs": [
        {
          "output_type": "stream",
          "text": [
            "12012.0\n"
          ],
          "name": "stdout"
        }
      ]
    },
    {
      "cell_type": "code",
      "metadata": {
        "colab": {
          "base_uri": "https://localhost:8080/"
        },
        "id": "ATI3WGmMASAt",
        "outputId": "c5b06411-2a5a-4ffc-fcf8-47e844bd9e62"
      },
      "source": [
        "ab + int(ccc)"
      ],
      "execution_count": 20,
      "outputs": [
        {
          "output_type": "execute_result",
          "data": {
            "text/plain": [
              "135468.0"
            ]
          },
          "metadata": {
            "tags": []
          },
          "execution_count": 20
        }
      ]
    },
    {
      "cell_type": "markdown",
      "metadata": {
        "id": "HDKhw6veAbI1"
      },
      "source": [
        "#### % คือหมาย modulo"
      ]
    },
    {
      "cell_type": "code",
      "metadata": {
        "colab": {
          "base_uri": "https://localhost:8080/"
        },
        "id": "l5tkVEXSAT3G",
        "outputId": "3fa5a3c7-12ce-4f8b-b27d-fb18e986efba"
      },
      "source": [
        "5%3 # modulo คือหารเอาเศษ *จะได้ใช้บ่อย เช็คว่าเป็นตัวเลขคี่หรือคู่"
      ],
      "execution_count": 50,
      "outputs": [
        {
          "output_type": "execute_result",
          "data": {
            "text/plain": [
              "2"
            ]
          },
          "metadata": {
            "tags": []
          },
          "execution_count": 50
        }
      ]
    },
    {
      "cell_type": "code",
      "metadata": {
        "colab": {
          "base_uri": "https://localhost:8080/"
        },
        "id": "Kd1WsazZAhMS",
        "outputId": "1b40ec18-774c-44dd-f8d9-6ebebad1f51a"
      },
      "source": [
        "7%3"
      ],
      "execution_count": 51,
      "outputs": [
        {
          "output_type": "execute_result",
          "data": {
            "text/plain": [
              "1"
            ]
          },
          "metadata": {
            "tags": []
          },
          "execution_count": 51
        }
      ]
    },
    {
      "cell_type": "markdown",
      "metadata": {
        "id": "rgw73PvXAz8D"
      },
      "source": [
        "### คำสั่ง print แบบพิเศษ (การ format string)"
      ]
    },
    {
      "cell_type": "code",
      "metadata": {
        "colab": {
          "base_uri": "https://localhost:8080/"
        },
        "id": "gWqwC8-nAy4v",
        "outputId": "9774826c-151e-437a-c7f0-5e47c8d34655"
      },
      "source": [
        "print('ตัวแปร') #สิ่งที่อยู่ข้างในวงเล็บคือ ตัวแปร และ string"
      ],
      "execution_count": 23,
      "outputs": [
        {
          "output_type": "stream",
          "text": [
            "ตัวแปร\n"
          ],
          "name": "stdout"
        }
      ]
    },
    {
      "cell_type": "code",
      "metadata": {
        "colab": {
          "base_uri": "https://localhost:8080/"
        },
        "id": "FZxBEJ8ZA9KJ",
        "outputId": "b5c7d43e-6d83-4a8f-f828-e76ed350bddb"
      },
      "source": [
        "print(f'% คือการหารเอาเศษ เช่น 7%3 = {7%3}') # เพิ่ม f หน้า 'string' และใช้ {} ใส่ code({} ข้างในจะเป็น code ของ python ซึ่งจะโชว์แต่คำตอบถ้าไม่ได้อยู่ใน {} ก็จะ print เหมือนเดิมทุกอย่าง)"
      ],
      "execution_count": 24,
      "outputs": [
        {
          "output_type": "stream",
          "text": [
            "% คือการหารเอาเศษ เช่น 7%3 = 1\n"
          ],
          "name": "stdout"
        }
      ]
    },
    {
      "cell_type": "code",
      "metadata": {
        "colab": {
          "base_uri": "https://localhost:8080/"
        },
        "id": "nqmT5W3tA-mR",
        "outputId": "d1f88eaf-572f-4ab2-aac5-878f705e9cc1"
      },
      "source": [
        "print(f'% คือการหารเอาเศษ เช่น 7%3 = {7%3} \\\r\n",
        "    แต่\\n/ คือการหารปกติ เช่น 7/3 = {7/3}  \\\r\n",
        "    และ\\n// คือการหารเอาส่วน เช่น 7//3 = {7//3} \\\r\n",
        "    หรือ\\nใช้ int() เพื่อหารเอาส่วน เช่น int(7/3) = {int(7/3)}') # \\n คือการขึ้นบรรทัดใหม่ \\ ใช้ในการตัด code แต่ com จะไม่เห็น"
      ],
      "execution_count": 59,
      "outputs": [
        {
          "output_type": "stream",
          "text": [
            "% คือการหารเอาเศษ เช่น 7%3 = 1     แต่\n",
            "/ คือการหารปกติ เช่น 7/3 = 2.3333333333333335      และ\n",
            "// คือการหารเอาส่วน เช่น 7//3 = 2     หรือ\n",
            "ใช้ int() เพื่อหารเอาส่วน เช่น int(7/3) = 2\n"
          ],
          "name": "stdout"
        }
      ]
    },
    {
      "cell_type": "markdown",
      "metadata": {
        "id": "4tXHI1BbBE0E"
      },
      "source": [
        "## DATA STRUCTURE (โครงสร้างข้อมูล)"
      ]
    },
    {
      "cell_type": "code",
      "metadata": {
        "colab": {
          "base_uri": "https://localhost:8080/"
        },
        "id": "AESDWZ49BBOQ",
        "outputId": "bfe8c949-cf56-49d9-c9a4-d909f3374121"
      },
      "source": [
        "[111,'c','งง',aaa]"
      ],
      "execution_count": 26,
      "outputs": [
        {
          "output_type": "execute_result",
          "data": {
            "text/plain": [
              "[111, 'c', 'งง', 1092]"
            ]
          },
          "metadata": {
            "tags": []
          },
          "execution_count": 26
        }
      ]
    },
    {
      "cell_type": "markdown",
      "metadata": {
        "id": "JYawZFXqB1U9"
      },
      "source": [
        "### List คือ การเอาข้อมูลหลายๆตัวมาเรียงต่อกัน \r\n",
        "#### list สามารถสร้างได้ 2 แบบ ดังนี้ (เป็นตัวเลขก็ได้เป็นตัวอักษรหรือตัวแปรก็ได้)"
      ]
    },
    {
      "cell_type": "markdown",
      "metadata": {
        "id": "SE2TZscTCQB8"
      },
      "source": [
        "#### แบบที่1 > square brackets"
      ]
    },
    {
      "cell_type": "code",
      "metadata": {
        "colab": {
          "base_uri": "https://localhost:8080/"
        },
        "id": "KGiG8tOIBI3j",
        "outputId": "00697d0e-e943-48d4-e6a6-63c8283eed4f"
      },
      "source": [
        "list_a = [] #list ว่าง\r\n",
        "print(list_a)"
      ],
      "execution_count": 27,
      "outputs": [
        {
          "output_type": "stream",
          "text": [
            "[]\n"
          ],
          "name": "stdout"
        }
      ]
    },
    {
      "cell_type": "code",
      "metadata": {
        "colab": {
          "base_uri": "https://localhost:8080/"
        },
        "id": "Gd2qCdc5CT9U",
        "outputId": "3bc1b453-831d-4da0-c0a5-7fd423ecc553"
      },
      "source": [
        "list_b = [111,'c','งง',aaa] # สามารถจัดกรุ๊ปตัวแปรหลายๆตัวมาอยู่รวมกัน\r\n",
        "print(list_b)"
      ],
      "execution_count": 28,
      "outputs": [
        {
          "output_type": "stream",
          "text": [
            "[111, 'c', 'งง', 1092]\n"
          ],
          "name": "stdout"
        }
      ]
    },
    {
      "cell_type": "markdown",
      "metadata": {
        "id": "x1bvV-KuCcb-"
      },
      "source": [
        "### ลำดับที่อยู่ใน list มีความสำคัญ (ลำดับใน list เริ่มจาก 0,1,2,...) "
      ]
    },
    {
      "cell_type": "code",
      "metadata": {
        "colab": {
          "base_uri": "https://localhost:8080/",
          "height": 34
        },
        "id": "Cot_0KFCCVuu",
        "outputId": "d20a869b-060b-4da6-eea5-b10b57d289b2"
      },
      "source": [
        "list_b[2]"
      ],
      "execution_count": 29,
      "outputs": [
        {
          "output_type": "execute_result",
          "data": {
            "application/vnd.google.colaboratory.intrinsic+json": {
              "type": "string"
            },
            "text/plain": [
              "'งง'"
            ]
          },
          "metadata": {
            "tags": []
          },
          "execution_count": 29
        }
      ]
    },
    {
      "cell_type": "markdown",
      "metadata": {
        "id": "CgYXCvd3Ci5z"
      },
      "source": [
        "#### แบบที่2"
      ]
    },
    {
      "cell_type": "code",
      "metadata": {
        "colab": {
          "base_uri": "https://localhost:8080/"
        },
        "id": "Pfc625BpCfEX",
        "outputId": "24dc0bea-f0ed-4243-d17a-39acf72d98a1"
      },
      "source": [
        "list_c = list()\r\n",
        "print(list_c)"
      ],
      "execution_count": 30,
      "outputs": [
        {
          "output_type": "stream",
          "text": [
            "[]\n"
          ],
          "name": "stdout"
        }
      ]
    },
    {
      "cell_type": "markdown",
      "metadata": {
        "id": "EFjSr9xECnbr"
      },
      "source": [
        "## append() เพิ่มสมาชิกใน list"
      ]
    },
    {
      "cell_type": "code",
      "metadata": {
        "colab": {
          "base_uri": "https://localhost:8080/"
        },
        "id": "_QWA2cq-Ck_M",
        "outputId": "acf4d0dc-b3e5-48b3-b757-6a2b2ea23ec0"
      },
      "source": [
        "list_b.append('u') # ความสำคัญของลำดับตัวที่อยู่ก่อนจะเป็น 0\r\n",
        "print(list_b)"
      ],
      "execution_count": 31,
      "outputs": [
        {
          "output_type": "stream",
          "text": [
            "[111, 'c', 'งง', 1092, 'u']\n"
          ],
          "name": "stdout"
        }
      ]
    },
    {
      "cell_type": "markdown",
      "metadata": {
        "id": "_X29wDbZCq48"
      },
      "source": [
        "ตัวที่อยู่ในวงเล็บหลังจากตัวแปร list เรียกว่า index ใช้สำหรับชี้ข้อมูลใน list \r\n",
        "\r\n",
        "(ชี้จากข้างหน้า,ชี้จากข้างหลัง)\r\n",
        "\r\n",
        "0 คือสมาชิกตัวแรก , -1 คือสมาชิกตัวสุดท้าย"
      ]
    },
    {
      "cell_type": "code",
      "metadata": {
        "colab": {
          "base_uri": "https://localhost:8080/",
          "height": 34
        },
        "id": "dgZIjSzvCpso",
        "outputId": "2df7ff42-3a62-47f4-9e13-17c2cea901ec"
      },
      "source": [
        "list_b[2]   "
      ],
      "execution_count": 60,
      "outputs": [
        {
          "output_type": "execute_result",
          "data": {
            "application/vnd.google.colaboratory.intrinsic+json": {
              "type": "string"
            },
            "text/plain": [
              "'งง'"
            ]
          },
          "metadata": {
            "tags": []
          },
          "execution_count": 60
        }
      ]
    },
    {
      "cell_type": "markdown",
      "metadata": {
        "id": "nEBkrKH8CydU"
      },
      "source": [
        "## String > list of characters"
      ]
    },
    {
      "cell_type": "code",
      "metadata": {
        "colab": {
          "base_uri": "https://localhost:8080/"
        },
        "id": "pRHCdlfQCu91",
        "outputId": "4ad6e242-5917-45c6-91e2-770a560387ed"
      },
      "source": [
        "t = 'python is easy' # (ตัวแปร t) สามารถชี้ไปที่ตัวอักษรแต่ละตัวที่ list นี้ได้เช่นกัน\r\n",
        "print(t)"
      ],
      "execution_count": 33,
      "outputs": [
        {
          "output_type": "stream",
          "text": [
            "python is easy\n"
          ],
          "name": "stdout"
        }
      ]
    },
    {
      "cell_type": "code",
      "metadata": {
        "colab": {
          "base_uri": "https://localhost:8080/",
          "height": 34
        },
        "id": "U8Xv05BjPr1z",
        "outputId": "66869979-2048-4ce4-d9b6-5ec010dfde7e"
      },
      "source": [
        "t[0]"
      ],
      "execution_count": 61,
      "outputs": [
        {
          "output_type": "execute_result",
          "data": {
            "application/vnd.google.colaboratory.intrinsic+json": {
              "type": "string"
            },
            "text/plain": [
              "'p'"
            ]
          },
          "metadata": {
            "tags": []
          },
          "execution_count": 61
        }
      ]
    },
    {
      "cell_type": "code",
      "metadata": {
        "colab": {
          "base_uri": "https://localhost:8080/",
          "height": 34
        },
        "id": "Uknitj6iC5ha",
        "outputId": "2579db66-3bd8-432f-e4dc-b7c5e66ed536"
      },
      "source": [
        "t[-4]"
      ],
      "execution_count": 36,
      "outputs": [
        {
          "output_type": "execute_result",
          "data": {
            "application/vnd.google.colaboratory.intrinsic+json": {
              "type": "string"
            },
            "text/plain": [
              "'e'"
            ]
          },
          "metadata": {
            "tags": []
          },
          "execution_count": 36
        }
      ]
    },
    {
      "cell_type": "code",
      "metadata": {
        "colab": {
          "base_uri": "https://localhost:8080/",
          "height": 34
        },
        "id": "cWzgs97zC8MQ",
        "outputId": "18d84f94-703a-4a20-e5d9-cf0fb6e793fe"
      },
      "source": [
        "t[6]"
      ],
      "execution_count": 37,
      "outputs": [
        {
          "output_type": "execute_result",
          "data": {
            "application/vnd.google.colaboratory.intrinsic+json": {
              "type": "string"
            },
            "text/plain": [
              "' '"
            ]
          },
          "metadata": {
            "tags": []
          },
          "execution_count": 37
        }
      ]
    },
    {
      "cell_type": "markdown",
      "metadata": {
        "id": "Dd66mh4QP3Mz"
      },
      "source": [
        "## จบ 5 มค 2021"
      ]
    },
    {
      "cell_type": "code",
      "metadata": {
        "id": "RzximwSuDA6M"
      },
      "source": [
        ""
      ],
      "execution_count": null,
      "outputs": []
    }
  ]
}